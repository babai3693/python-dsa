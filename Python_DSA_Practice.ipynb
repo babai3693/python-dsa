{
 "cells": [
  {
   "cell_type": "markdown",
   "id": "a534f54a",
   "metadata": {},
   "source": [
    "# Reverse an array"
   ]
  },
  {
   "cell_type": "code",
   "execution_count": 27,
   "id": "16429f25",
   "metadata": {},
   "outputs": [
    {
     "name": "stdout",
     "output_type": "stream",
     "text": [
      "Enter number of elements : 6\n",
      "\n",
      "Enter the numbers with space: 12 -3 65 21 9 100\n",
      "\n",
      "List is -  [12, -3, 65, 21, 9, 100]\n"
     ]
    }
   ],
   "source": [
    "# number of elements \n",
    "n = int(input(\"Enter number of elements : \")) \n",
    "  \n",
    "# Below line read inputs from user using map() function  \n",
    "a = list(map(int,input(\"\\nEnter the numbers with space: \").strip().split()))[:n] \n",
    "  \n",
    "print(\"\\nList is - \", a)"
   ]
  },
  {
   "cell_type": "code",
   "execution_count": 19,
   "id": "59b6f7f1",
   "metadata": {},
   "outputs": [
    {
     "data": {
      "text/plain": [
       "[112, 90, 53, 0, -53]"
      ]
     },
     "execution_count": 19,
     "metadata": {},
     "output_type": "execute_result"
    }
   ],
   "source": [
    "def reverse_array(a):\n",
    "    k = []\n",
    "    for indx in range(len(a)-1, -1, -1):\n",
    "        k.append(a[indx])\n",
    "    return k\n",
    "reverse_array(a)"
   ]
  },
  {
   "cell_type": "markdown",
   "id": "94c02346",
   "metadata": {},
   "source": [
    "# Maximum and minimum of an array"
   ]
  },
  {
   "cell_type": "code",
   "execution_count": 20,
   "id": "2ba51e57",
   "metadata": {},
   "outputs": [
    {
     "data": {
      "text/plain": [
       "(112, -53)"
      ]
     },
     "execution_count": 20,
     "metadata": {},
     "output_type": "execute_result"
    }
   ],
   "source": [
    "def max_min(a):\n",
    "    min = max = a[0]\n",
    "    for element in a[1:]:\n",
    "        if element < min:\n",
    "            min = element\n",
    "        elif element > max:\n",
    "            max = element\n",
    "    return max,min\n",
    "max_min(a)"
   ]
  },
  {
   "cell_type": "markdown",
   "id": "1f8dbdd0",
   "metadata": {},
   "source": [
    "# Kth smallest element"
   ]
  },
  {
   "cell_type": "code",
   "execution_count": 28,
   "id": "a6698509",
   "metadata": {},
   "outputs": [],
   "source": [
    "# sort a list\n",
    "new = []\n",
    "def sort(a):\n",
    "    while a:\n",
    "        min = a[0]\n",
    "        for ele in a:\n",
    "            if ele < min:\n",
    "                min = ele\n",
    "        new.append(min)\n",
    "        a.remove(min) \n",
    "    return new"
   ]
  },
  {
   "cell_type": "code",
   "execution_count": 29,
   "id": "5b72e88f",
   "metadata": {},
   "outputs": [
    {
     "data": {
      "text/plain": [
       "12"
      ]
     },
     "execution_count": 29,
     "metadata": {},
     "output_type": "execute_result"
    }
   ],
   "source": [
    "def k_smallest(a,k):\n",
    "    return sort(a)[k - 1]\n",
    "k_smallest(a,3)"
   ]
  },
  {
   "cell_type": "code",
   "execution_count": 30,
   "id": "6754e486",
   "metadata": {},
   "outputs": [
    {
     "data": {
      "text/plain": [
       "[-3, 9, 12, 21, 65, 100]"
      ]
     },
     "execution_count": 30,
     "metadata": {},
     "output_type": "execute_result"
    }
   ],
   "source": [
    "new"
   ]
  },
  {
   "cell_type": "code",
   "execution_count": null,
   "id": "2586a73b",
   "metadata": {},
   "outputs": [],
   "source": []
  }
 ],
 "metadata": {
  "kernelspec": {
   "display_name": "Python 3 (ipykernel)",
   "language": "python",
   "name": "python3"
  },
  "language_info": {
   "codemirror_mode": {
    "name": "ipython",
    "version": 3
   },
   "file_extension": ".py",
   "mimetype": "text/x-python",
   "name": "python",
   "nbconvert_exporter": "python",
   "pygments_lexer": "ipython3",
   "version": "3.7.13"
  }
 },
 "nbformat": 4,
 "nbformat_minor": 5
}
