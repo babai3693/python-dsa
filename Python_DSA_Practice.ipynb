{
 "cells": [
  {
   "cell_type": "markdown",
   "id": "a534f54a",
   "metadata": {},
   "source": [
    "# Reverse an array"
   ]
  },
  {
   "cell_type": "code",
   "execution_count": 27,
   "id": "16429f25",
   "metadata": {},
   "outputs": [
    {
     "name": "stdout",
     "output_type": "stream",
     "text": [
      "Enter number of elements : 6\n",
      "\n",
      "Enter the numbers with space: 12 -3 65 21 9 100\n",
      "\n",
      "List is -  [12, -3, 65, 21, 9, 100]\n"
     ]
    }
   ],
   "source": [
    "# number of elements \n",
    "n = int(input(\"Enter number of elements : \")) \n",
    "  \n",
    "# Below line read inputs from user using map() function  \n",
    "a = list(map(int,input(\"\\nEnter the numbers with space: \").strip().split()))[:n] \n",
    "  \n",
    "print(\"\\nList is - \", a)"
   ]
  },
  {
   "cell_type": "code",
   "execution_count": 19,
   "id": "59b6f7f1",
   "metadata": {},
   "outputs": [
    {
     "data": {
      "text/plain": [
       "[112, 90, 53, 0, -53]"
      ]
     },
     "execution_count": 19,
     "metadata": {},
     "output_type": "execute_result"
    }
   ],
   "source": [
    "def reverse_array(a):\n",
    "    k = []\n",
    "    for indx in range(len(a)-1, -1, -1):\n",
    "        k.append(a[indx])\n",
    "    return k\n",
    "reverse_array(a)"
   ]
  },
  {
   "cell_type": "markdown",
   "id": "94c02346",
   "metadata": {},
   "source": [
    "# Maximum and minimum of an array"
   ]
  },
  {
   "cell_type": "code",
   "execution_count": 20,
   "id": "2ba51e57",
   "metadata": {},
   "outputs": [
    {
     "data": {
      "text/plain": [
       "(112, -53)"
      ]
     },
     "execution_count": 20,
     "metadata": {},
     "output_type": "execute_result"
    }
   ],
   "source": [
    "def max_min(a):\n",
    "    min = max = a[0]\n",
    "    for element in a[1:]:\n",
    "        if element < min:\n",
    "            min = element\n",
    "        elif element > max:\n",
    "            max = element\n",
    "    return max,min\n",
    "max_min(a)"
   ]
  },
  {
   "cell_type": "markdown",
   "id": "1f8dbdd0",
   "metadata": {},
   "source": [
    "# Kth smallest element"
   ]
  },
  {
   "cell_type": "code",
   "execution_count": 28,
   "id": "a6698509",
   "metadata": {},
   "outputs": [],
   "source": [
    "# sort a list\n",
    "new = []\n",
    "def sort(a):\n",
    "    while a:\n",
    "        min = a[0]\n",
    "        for ele in a:\n",
    "            if ele < min:\n",
    "                min = ele\n",
    "        new.append(min)\n",
    "        a.remove(min) \n",
    "    return new"
   ]
  },
  {
   "cell_type": "code",
   "execution_count": 29,
   "id": "5b72e88f",
   "metadata": {},
   "outputs": [
    {
     "data": {
      "text/plain": [
       "12"
      ]
     },
     "execution_count": 29,
     "metadata": {},
     "output_type": "execute_result"
    }
   ],
   "source": [
    "def k_smallest(a,k):\n",
    "    return sort(a)[k - 1]\n",
    "k_smallest(a,3)"
   ]
  },
  {
   "cell_type": "code",
   "execution_count": 30,
   "id": "6754e486",
   "metadata": {},
   "outputs": [
    {
     "data": {
      "text/plain": [
       "[-3, 9, 12, 21, 65, 100]"
      ]
     },
     "execution_count": 30,
     "metadata": {},
     "output_type": "execute_result"
    }
   ],
   "source": [
    "new"
   ]
  },
  {
   "cell_type": "markdown",
   "id": "5b61ecec",
   "metadata": {},
   "source": [
    "# Running sum of a list"
   ]
  },
  {
   "cell_type": "markdown",
   "id": "75aab445",
   "metadata": {},
   "source": [
    "Input: nums = [1,2,3,4]\n",
    "Output: [1,3,6,10]\n",
    "Explanation: Running sum is obtained as follows: [1, 1+2, 1+2+3, 1+2+3+4]."
   ]
  },
  {
   "cell_type": "code",
   "execution_count": 2,
   "id": "0fb41588",
   "metadata": {},
   "outputs": [],
   "source": [
    "def runningSum(nums):\n",
    "    k = 0\n",
    "    running_sum = []\n",
    "    for num in nums:\n",
    "        k = k + num\n",
    "        running_sum.append(k)\n",
    "    return running_sum"
   ]
  },
  {
   "cell_type": "code",
   "execution_count": 3,
   "id": "2a36fb70",
   "metadata": {},
   "outputs": [
    {
     "data": {
      "text/plain": [
       "[1, 3, 6, 10]"
      ]
     },
     "execution_count": 3,
     "metadata": {},
     "output_type": "execute_result"
    }
   ],
   "source": [
    "nums = [1,2,3,4]\n",
    "runningSum(nums)"
   ]
  },
  {
   "cell_type": "code",
   "execution_count": 5,
   "id": "6f2a9bf3",
   "metadata": {},
   "outputs": [],
   "source": [
    "# alternate sol\n",
    "def runningSum(nums):\n",
    "    result = []\n",
    "    result.append(nums[0])\n",
    "    for i in range(1, len(nums)):\n",
    "        result.append(result[-1]+nums[i])\n",
    "    return result"
   ]
  },
  {
   "cell_type": "markdown",
   "id": "d889b7fd",
   "metadata": {},
   "source": [
    "# Find Pivot Index"
   ]
  },
  {
   "cell_type": "markdown",
   "id": "ff511834",
   "metadata": {},
   "source": [
    "    Example 1:\n",
    "\n",
    "    Input: nums = [1,7,3,6,5,6]\n",
    "    Output: 3\n",
    "    Explanation:\n",
    "    The pivot index is 3.\n",
    "    Left sum = nums[0] + nums[1] + nums[2] = 1 + 7 + 3 = 11\n",
    "    Right sum = nums[4] + nums[5] = 5 + 6 = 11\n",
    "    Example 2:\n",
    "\n",
    "    Input: nums = [1,2,3]\n",
    "    Output: -1\n",
    "    Explanation:\n",
    "    There is no index that satisfies the conditions in the problem statement.\n",
    "    Example 3:\n",
    "\n",
    "    Input: nums = [2,1,-1]\n",
    "    Output: 0\n",
    "    Explanation:\n",
    "    The pivot index is 0.\n",
    "    Left sum = 0 (no elements to the left of index 0)\n",
    "    Right sum = nums[1] + nums[2] = 1 + -1 = 0"
   ]
  },
  {
   "cell_type": "code",
   "execution_count": 7,
   "id": "d0a81a19",
   "metadata": {},
   "outputs": [
    {
     "data": {
      "text/plain": [
       "3"
      ]
     },
     "execution_count": 7,
     "metadata": {},
     "output_type": "execute_result"
    }
   ],
   "source": [
    "nums = [1,7,3,6,5,6]\n",
    "def pivotIndex(nums):\n",
    "    left=0\n",
    "    right = sum(nums)\n",
    "    for index, num in enumerate(nums):\n",
    "        right -= num\n",
    "        if left == right:\n",
    "            return index\n",
    "        left += num\n",
    "    return -1\n",
    "pivotIndex(nums)"
   ]
  },
  {
   "cell_type": "code",
   "execution_count": null,
   "id": "c5f40abb",
   "metadata": {},
   "outputs": [],
   "source": []
  }
 ],
 "metadata": {
  "kernelspec": {
   "display_name": "Python 3 (ipykernel)",
   "language": "python",
   "name": "python3"
  },
  "language_info": {
   "codemirror_mode": {
    "name": "ipython",
    "version": 3
   },
   "file_extension": ".py",
   "mimetype": "text/x-python",
   "name": "python",
   "nbconvert_exporter": "python",
   "pygments_lexer": "ipython3",
   "version": "3.9.7"
  }
 },
 "nbformat": 4,
 "nbformat_minor": 5
}
